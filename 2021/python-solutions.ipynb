{
 "cells": [
  {
   "cell_type": "markdown",
   "id": "fe95296a",
   "metadata": {},
   "source": [
    "## Day 1"
   ]
  },
  {
   "cell_type": "code",
   "execution_count": null,
   "id": "35e2985c",
   "metadata": {},
   "outputs": [],
   "source": [
    "import numpy as np\n",
    "filename = './input/day01.txt'\n",
    "with open(filename, 'r') as f:\n",
    "    lines = f.readlines()\n",
    "    depths = [int(line.strip()) for line in lines]\n",
    "len([d for d in np.diff(depth) if d > 0])"
   ]
  },
  {
   "cell_type": "code",
   "execution_count": null,
   "id": "c080d8a8",
   "metadata": {},
   "outputs": [],
   "source": [
    "filename = './input/day01.txt'\n",
    "with open(filename, 'r') as f:\n",
    "    lines = f.readlines()\n",
    "    depths = [int(line.strip()) for line in lines]\n",
    "    \n",
    "# test case\n",
    "# depths = [199, 200, 208, 210, 200, 207, 240, 269, 260, 263]\n",
    "windows = [sum(depths[0:3])]\n",
    "for i in range(3, len(depths)):\n",
    "    windows.append(windows[-1] - depths[i-3] + depths[i])\n",
    "len([d for d in np.diff(windows) if d > 0])"
   ]
  },
  {
   "cell_type": "markdown",
   "id": "a960fa3b",
   "metadata": {},
   "source": [
    "## Day 2"
   ]
  },
  {
   "cell_type": "code",
   "execution_count": null,
   "id": "71b685cf",
   "metadata": {},
   "outputs": [],
   "source": [
    "filename = './input/day02.txt'\n",
    "with open(filename, 'r') as f:\n",
    "    lines = f.readlines()\n",
    "    instructions = [line.strip().split() for line in lines]\n",
    "\n",
    "# lines = ['forward 5', 'down 5', 'forward 8', 'up 3', 'down 8', 'forward 2']\n",
    "# instructions = [line.strip().split() for line in lines]\n",
    "x, y = 0, 0\n",
    "\n",
    "for instruction in instructions:\n",
    "    direction, unit = instruction\n",
    "    unit = int(unit)\n",
    "    if direction == 'forward':\n",
    "        x += unit\n",
    "    elif direction == 'down':\n",
    "        y += unit\n",
    "    elif direction == 'up':\n",
    "        y -= unit\n",
    "    else:\n",
    "        print('Wrong direction')\n",
    "        \n",
    "x*y"
   ]
  },
  {
   "cell_type": "code",
   "execution_count": null,
   "id": "e61abef0",
   "metadata": {},
   "outputs": [],
   "source": [
    "filename = './input/day02.txt'\n",
    "with open(filename, 'r') as f:\n",
    "    lines = f.readlines()\n",
    "    instructions = [line.strip().split() for line in lines]\n",
    "\n",
    "# lines = ['forward 5', 'down 5', 'forward 8', 'up 3', 'down 8', 'forward 2']\n",
    "# instructions = [line.strip().split() for line in lines]\n",
    "x, y, aim = 0, 0, 0\n",
    "\n",
    "for instruction in instructions:\n",
    "    direction, unit = instruction\n",
    "    unit = int(unit)\n",
    "    if direction == 'forward':\n",
    "        x += unit\n",
    "        y += unit * aim\n",
    "    elif direction == 'down':\n",
    "        aim += unit\n",
    "    elif direction == 'up':\n",
    "        aim -= unit\n",
    "    else:\n",
    "        print('Wrong direction')\n",
    "        \n",
    "x*y"
   ]
  }
 ],
 "metadata": {
  "kernelspec": {
   "display_name": "Python 3 (ipykernel)",
   "language": "python",
   "name": "python3"
  },
  "language_info": {
   "codemirror_mode": {
    "name": "ipython",
    "version": 3
   },
   "file_extension": ".py",
   "mimetype": "text/x-python",
   "name": "python",
   "nbconvert_exporter": "python",
   "pygments_lexer": "ipython3",
   "version": "3.7.12"
  }
 },
 "nbformat": 4,
 "nbformat_minor": 5
}
