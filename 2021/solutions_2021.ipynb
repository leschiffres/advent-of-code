{
 "cells": [
  {
   "cell_type": "markdown",
   "id": "d146360c",
   "metadata": {},
   "source": [
    "## Day 1"
   ]
  },
  {
   "cell_type": "code",
   "execution_count": null,
   "id": "30a168f4",
   "metadata": {},
   "outputs": [],
   "source": [
    "import numpy as np\n",
    "filename = './input/day01.txt'\n",
    "with open(filename, 'r') as f:\n",
    "    lines = f.readlines()\n",
    "    depths = [int(line.strip()) for line in lines]\n",
    "len([d for d in np.diff(depth) if d > 0])"
   ]
  },
  {
   "cell_type": "code",
   "execution_count": null,
   "id": "e393c0ac",
   "metadata": {},
   "outputs": [],
   "source": [
    "filename = './input/day01.txt'\n",
    "with open(filename, 'r') as f:\n",
    "    lines = f.readlines()\n",
    "    depths = [int(line.strip()) for line in lines]\n",
    "    \n",
    "# test case\n",
    "# depths = [199, 200, 208, 210, 200, 207, 240, 269, 260, 263]\n",
    "windows = [sum(depths[0:3])]\n",
    "for i in range(3, len(depths)):\n",
    "    windows.append(windows[-1] - depths[i-3] + depths[i])\n",
    "len([d for d in np.diff(windows) if d > 0])"
   ]
  },
  {
   "cell_type": "markdown",
   "id": "920cfc02",
   "metadata": {},
   "source": [
    "## Day 2"
   ]
  },
  {
   "cell_type": "code",
   "execution_count": null,
   "id": "419061ea",
   "metadata": {},
   "outputs": [],
   "source": [
    "filename = './input/day02.txt'\n",
    "with open(filename, 'r') as f:\n",
    "    lines = f.readlines()\n",
    "    instructions = [line.strip().split() for line in lines]\n",
    "\n",
    "# lines = ['forward 5', 'down 5', 'forward 8', 'up 3', 'down 8', 'forward 2']\n",
    "# instructions = [line.strip().split() for line in lines]\n",
    "x, y = 0, 0\n",
    "\n",
    "for instruction in instructions:\n",
    "    direction, unit = instruction\n",
    "    unit = int(unit)\n",
    "    if direction == 'forward':\n",
    "        x += unit\n",
    "    elif direction == 'down':\n",
    "        y += unit\n",
    "    elif direction == 'up':\n",
    "        y -= unit\n",
    "    else:\n",
    "        print('Wrong direction')\n",
    "        \n",
    "x*y"
   ]
  },
  {
   "cell_type": "code",
   "execution_count": null,
   "id": "71cd56a5",
   "metadata": {},
   "outputs": [],
   "source": [
    "filename = './input/day02.txt'\n",
    "with open(filename, 'r') as f:\n",
    "    lines = f.readlines()\n",
    "    instructions = [line.strip().split() for line in lines]\n",
    "\n",
    "# lines = ['forward 5', 'down 5', 'forward 8', 'up 3', 'down 8', 'forward 2']\n",
    "# instructions = [line.strip().split() for line in lines]\n",
    "x, y, aim = 0, 0, 0\n",
    "\n",
    "for instruction in instructions:\n",
    "    direction, unit = instruction\n",
    "    unit = int(unit)\n",
    "    if direction == 'forward':\n",
    "        x += unit\n",
    "        y += unit * aim\n",
    "    elif direction == 'down':\n",
    "        aim += unit\n",
    "    elif direction == 'up':\n",
    "        aim -= unit\n",
    "    else:\n",
    "        print('Wrong direction')\n",
    "        \n",
    "x*y"
   ]
  },
  {
   "cell_type": "markdown",
   "id": "2fa8c779",
   "metadata": {},
   "source": [
    "## Day 3"
   ]
  },
  {
   "cell_type": "code",
   "execution_count": null,
   "id": "76ecce01",
   "metadata": {},
   "outputs": [],
   "source": [
    "filename = './input/day03.txt'\n",
    "with open(filename, 'r') as f:\n",
    "    lines = f.readlines()\n",
    "    bits = [line.strip() for line in lines]\n",
    "\n",
    "# bits = ['00100', '11110', '10110', '10111', '10101', '01111', '00111', '11100', '10000', '11001', '00010', '01010']\n",
    "rows, columns = len(bits), len(bits[0])\n",
    "# print(rows, columns)\n",
    "\n",
    "gamma, epsilon = [], []\n",
    "\n",
    "for j in range(columns):\n",
    "    ones = 0\n",
    "    for i in range(rows):\n",
    "        if bits[i][j] == '1':\n",
    "            ones += 1\n",
    "\n",
    "    if rows - ones > ones:\n",
    "        gamma.append('0')\n",
    "        epsilon.append('1')\n",
    "    else:\n",
    "        gamma.append('1')\n",
    "        epsilon.append('0')\n",
    "        \n",
    "gamma = int(''.join(gamma), 2)\n",
    "epsilon = int(''.join(epsilon), 2)\n",
    "gamma*epsilon"
   ]
  },
  {
   "cell_type": "code",
   "execution_count": null,
   "id": "738941f2",
   "metadata": {},
   "outputs": [],
   "source": [
    "filename = './input/day03.txt'\n",
    "with open(filename, 'r') as f:\n",
    "    lines = f.readlines()\n",
    "    bits = [line.strip() for line in lines]\n",
    "\n",
    "# bits = ['00100', '11110', '10110', '10111', '10101', '01111', '00111', '11100', '10000', '11001', '00010', '01010']\n",
    "rows, columns = len(bits), len(bits[0])\n",
    "\n",
    "\n",
    "# calculate oxygen generator rating\n",
    "remaining_bitlist = [bitlist for bitlist in bits]\n",
    "\n",
    "for j in range(columns):\n",
    "    ones = 0\n",
    "    dc = {1:[], 0:[]}\n",
    "    \n",
    "    while remaining_bitlist:\n",
    "        bitlist = remaining_bitlist.pop()\n",
    "        if bitlist[j] == '1':\n",
    "            dc[1].append(bitlist)\n",
    "        else:\n",
    "            dc[0].append(bitlist)\n",
    "    if len(dc[0]) > len(dc[1]):\n",
    "        remaining_bitlist = dc[0]\n",
    "    else:\n",
    "        remaining_bitlist = dc[1]\n",
    "    \n",
    "    if len(remaining_bitlist) == 1:\n",
    "        break\n",
    "oxygen_rating = int(remaining_bitlist[0], 2)\n",
    "\n",
    "# calculate C02 scrubber rating\n",
    "remaining_bitlist = bits\n",
    "for j in range(columns):\n",
    "    ones = 0\n",
    "    dc = {1:[], 0:[]}\n",
    "    \n",
    "    while remaining_bitlist:\n",
    "        bitlist = remaining_bitlist.pop()\n",
    "        if bitlist[j] == '1':\n",
    "            dc[1].append(bitlist)\n",
    "        else:\n",
    "            dc[0].append(bitlist)\n",
    "    if len(dc[0]) > len(dc[1]):\n",
    "        remaining_bitlist = dc[1]\n",
    "    else:\n",
    "        remaining_bitlist = dc[0]\n",
    "    \n",
    "    if len(remaining_bitlist) == 1:\n",
    "        break\n",
    "co2_rating = int(remaining_bitlist[0], 2)        \n",
    "\n",
    "oxygen_rating*co2_rating"
   ]
  }
 ],
 "metadata": {
  "kernelspec": {
   "display_name": "Python 3 (ipykernel)",
   "language": "python",
   "name": "python3"
  },
  "language_info": {
   "codemirror_mode": {
    "name": "ipython",
    "version": 3
   },
   "file_extension": ".py",
   "mimetype": "text/x-python",
   "name": "python",
   "nbconvert_exporter": "python",
   "pygments_lexer": "ipython3",
   "version": "3.7.12"
  }
 },
 "nbformat": 4,
 "nbformat_minor": 5
}
